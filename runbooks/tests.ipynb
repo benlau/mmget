{
  "cells": [
    {
      "cell_type": "markdown",
      "metadata": {},
      "source": [
        "# Tests Runbook\n",
        "\n",
        "## Execution with error / need to ask options"
      ]
    },
    {
      "cell_type": "code",
      "metadata": {},
      "source": [
        "import sys\n",
        "import os\n",
        "sys.path.append(os.path.dirname(os.path.abspath(\"\")))\n",
        "from mmget import mmget\n",
        "\n",
        "mmget(\n",
        ").dl(\n",
        "    \"dummy://any-file.txt?s=10\"\n",
        ").dl(\n",
        "    \"dummy://any-file2.txt?s=15\"\n",
        ").dl(\n",
        "    \"invalid-url\"\n",
        ").dl(\n",
        "    \"dummy://any-file3.txt?ask_options=true\"\n",
        ").run()"
      ],
      "execution_count": null,
      "outputs": []
    },
    {
      "cell_type": "markdown",
      "metadata": {},
      "source": [
        "# Download without progress should not show ETA"
      ]
    },
    {
      "cell_type": "code",
      "metadata": {},
      "source": [
        "import sys\n",
        "import os\n",
        "sys.path.append(os.path.dirname(os.path.abspath(\"\")))\n",
        "from mmget import mmget\n",
        "\n",
        "mmget(\n",
        ").dl(\n",
        "    \"dummy://any-file.txt?s=10&stop=5\"\n",
        ").dl(\n",
        "    \"dummy://any-file2.txt?s=15\"\n",
        ").run()"
      ],
      "execution_count": null,
      "outputs": []
    },
    {
      "cell_type": "markdown",
      "metadata": {},
      "source": [
        "# Concurrent download tests\n",
        "\n",
        "- The default number of thread is 5"
      ]
    },
    {
      "cell_type": "code",
      "metadata": {},
      "source": [
        "import sys\n",
        "import os\n",
        "sys.path.append(os.path.dirname(os.path.abspath(\"\")))\n",
        "from mmget import mmget\n",
        "\n",
        "manager = mmget()\n",
        "for i in range(10):\n",
        "    manager.dl(f\"dummy://any-file{i}.txt?s=10\")\n",
        "manager.run()"
      ],
      "execution_count": null,
      "outputs": []
    },
    {
      "cell_type": "markdown",
      "metadata": {},
      "source": [
        "# No dl()"
      ]
    },
    {
      "cell_type": "code",
      "metadata": {},
      "source": [
        "import sys\n",
        "import os\n",
        "sys.path.append(os.path.dirname(os.path.abspath(\"\")))\n",
        "from mmget import mmget\n",
        "\n",
        "manager = mmget()\n",
        "mmget().run()"
      ],
      "execution_count": null,
      "outputs": []
    },
    {
      "cell_type": "markdown",
      "metadata": {},
      "source": [
        "# Test CivitAI\n",
        "\n",
        "## Download with multiple version available"
      ]
    },
    {
      "cell_type": "code",
      "metadata": {},
      "source": [
        "import sys\n",
        "import os\n",
        "sys.path.append(os.path.dirname(os.path.abspath(\"\")))\n",
        "from mmget import mmget\n",
        "\n",
        "mmget(\n",
        "\n",
        ").dl(\n",
        "    \"https://civitai.com/models/129435/openpose-from-above\",\n",
        "    \"../downloads\",\n",
        "    dest_type=\"a1111\"\n",
        ").run()"
      ],
      "execution_count": null,
      "outputs": []
    },
    {
      "cell_type": "markdown",
      "metadata": {},
      "source": [
        "## Download without access token.\n",
        "\n",
        "It should show 401 error."
      ]
    },
    {
      "cell_type": "code",
      "metadata": {},
      "source": [
        "import sys\n",
        "import os\n",
        "sys.path.append(os.path.dirname(os.path.abspath(\"\")))\n",
        "from mmget import mmget\n",
        "\n",
        "mmget(\n",
        ").dl(\n",
        "    \"https://civitai.com/models/192338/inkjet-printing\",\n",
        "    \"../downloads\",\n",
        "    dest_type=\"a1111\"\n",
        ").run()"
      ],
      "execution_count": null,
      "outputs": []
    },
    {
      "cell_type": "markdown",
      "metadata": {},
      "source": [
        "## Download with access token."
      ]
    },
    {
      "cell_type": "code",
      "metadata": {},
      "source": [
        "import sys\n",
        "import os\n",
        "sys.path.append(os.path.dirname(os.path.abspath(\"\")))\n",
        "from mmget import mmget\n",
        "from dotenv import load_dotenv\n",
        "load_dotenv(\".env\")\n",
        "mmget(\n",
        ").dl(\n",
        "    \"https://civitai.com/models/192338/inkjet-printing\",\n",
        "    \"../downloads\",\n",
        "    dest_type=\"a1111\"\n",
        ").run()"
      ],
      "execution_count": null,
      "outputs": []
    }
  ],
  "metadata": {
    "kernelspec": {
      "display_name": "Python 3",
      "language": "python",
      "name": "python3"
    }
  },
  "nbformat": 4,
  "nbformat_minor": 4
}